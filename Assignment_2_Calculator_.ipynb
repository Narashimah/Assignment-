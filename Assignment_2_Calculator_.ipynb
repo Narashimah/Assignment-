{
  "nbformat": 4,
  "nbformat_minor": 0,
  "metadata": {
    "colab": {
      "name": "Assignment 2 Calculator .ipynb",
      "provenance": [],
      "collapsed_sections": [],
      "authorship_tag": "ABX9TyPlzw000pjyjAYx573UjCnR",
      "include_colab_link": true
    },
    "kernelspec": {
      "name": "python3",
      "display_name": "Python 3"
    },
    "language_info": {
      "name": "python"
    }
  },
  "cells": [
    {
      "cell_type": "markdown",
      "metadata": {
        "id": "view-in-github",
        "colab_type": "text"
      },
      "source": [
        "<a href=\"https://colab.research.google.com/github/Narashimah/Assignment-/blob/main/Assignment_2_Calculator_.ipynb\" target=\"_parent\"><img src=\"https://colab.research.google.com/assets/colab-badge.svg\" alt=\"Open In Colab\"/></a>"
      ]
    },
    {
      "cell_type": "code",
      "execution_count": null,
      "metadata": {
        "id": "tIgDywYYmYz2"
      },
      "outputs": [],
      "source": [
        "print(\"Select operation.\")\n",
        "print(\"Enter 1 for Addition\")\n",
        "print(\"Enter 2 for Subtraction\")\n",
        "print(\"Enter 3 for Multiplication\")\n",
        "print(\"Enter 4 for division\")\n",
        "print(\"Enter 5 for Square\")\n",
        "print(\"Enter 6 for SQRT\")\n",
        "print(\"Enter 7 for Inverse\")\n",
        "import math\n",
        "def add(x, y):\n",
        "    return x + y\n",
        "def subtract(x, y):\n",
        "    return x - y\n",
        "def multiply(x, y):\n",
        "    return x * y\n",
        "def divide(x, y):\n",
        "    return x / y\n",
        "def Square(x, y):\n",
        "    return x ** y\n",
        "def SQRT(x ,y):\n",
        "    return math.sqrt(x) , math.sqrt(y)\n",
        "def Inverse(x, y):\n",
        "    return (1/x ,1/y)\n",
        "while True:\n",
        "    choice = input(\"Enter choice: \")\n",
        "    if choice in ('1', '2', '3', '4', '5', '6', '7'):\n",
        "        num1 = float(input(\"Enter first number: \"))\n",
        "        num2 = float(input(\"Enter second number: \"))\n",
        "        if choice == '1':\n",
        "            print(add(num1, num2))\n",
        "        elif choice == '2':\n",
        "            print( subtract(num1, num2))\n",
        "        elif choice == '3':\n",
        "            print(multiply(num1, num2))\n",
        "        elif choice == '4':\n",
        "            print(divide(num1, num2))\n",
        "        elif choice == '5':\n",
        "            print(Square(num1, num2))\n",
        "        elif choice == '6':\n",
        "            print(SQRT(num1, num2))\n",
        "        elif choice == '7':\n",
        "            print(Inverse(num1 , num2))\n",
        "        next_calculation = input(\"Let's do next calculation? (yes/no): \")\n",
        "        if next_calculation == \"no\":\n",
        "          break\n",
        "    else:\n",
        "        print(\"Invalid Input\")\n"
      ]
    }
  ]
}